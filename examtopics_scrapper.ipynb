{
  "cells": [
    {
      "cell_type": "code",
      "execution_count": 1,
      "id": "394d5ee6",
      "metadata": {
        "id": "394d5ee6"
      },
      "outputs": [],
      "source": [
        "import requests\n",
        "from bs4 import BeautifulSoup\n",
        "import re\n",
        "import csv"
      ]
    },
    {
      "cell_type": "code",
      "execution_count": 2,
      "id": "966137b6",
      "metadata": {
        "id": "966137b6"
      },
      "outputs": [],
      "source": [
        "exams = [\n",
        "    {'https://www.examtopics.com/discussions/databricks/','exam-certified-data-engineer-professional'},\n",
        "    {'https://www.examtopics.com/discussions/snowflake/','exam-snowpro-advanced-data-engineer'},\n",
        "    {'https://www.examtopics.com/discussions/snowflake/','exam-snowpro-core'}\n",
        "]"
      ]
    },
    {
      "cell_type": "code",
      "execution_count": null,
      "id": "fc1f73ec",
      "metadata": {
        "scrolled": false,
        "id": "fc1f73ec",
        "colab": {
          "base_uri": "https://localhost:8080/"
        },
        "outputId": "7678f2ba-3d00-422c-ece5-a8d1f8afa8f2"
      },
      "outputs": [
        {
          "output_type": "stream",
          "name": "stdout",
          "text": [
            "CPU times: user 24.4 s, sys: 473 ms, total: 24.8 s\n",
            "Wall time: 9min 4s\n"
          ]
        }
      ],
      "source": [
        "%%time\n",
        "for URL, exam_to_look_for in exams:\n",
        "  page_num = 1 #Page where the code starts looking\n",
        "  resp = requests.get(URL+f'{page_num}')\n",
        "  questions_links = []\n",
        "\n",
        "  while resp.status_code != 404: #Check all the available pages\n",
        "      html = resp.text\n",
        "      soup = BeautifulSoup(html, 'html.parser')\n",
        "      children = soup.find_all(name='a'\\\n",
        "                              ,class_='discussion-link'\\\n",
        "                              ,attrs={'href':re.compile(f'.*{exam_to_look_for}.*')}) #Gets the wanted links\n",
        "      for child in children:\n",
        "          questions_links.append('https://www.examtopics.com'+child.get('href')) #Generated the URL\n",
        "\n",
        "      page_num+=1 #Goes for the next page\n",
        "      resp = requests.get(URL+f'{page_num}')\n",
        "\n",
        "  with open(f'./{exam_to_look_for}_examtopics_links.csv', 'w', newline='') as ans_file:\n",
        "      writter = csv.writer(ans_file)\n",
        "      writter.writerow([\"examtopics_liks\"])\n",
        "\n",
        "      for question in questions_links:\n",
        "          writter.writerow([question])"
      ]
    }
  ],
  "metadata": {
    "kernelspec": {
      "display_name": "Python 3 (ipykernel)",
      "language": "python",
      "name": "python3"
    },
    "language_info": {
      "codemirror_mode": {
        "name": "ipython",
        "version": 3
      },
      "file_extension": ".py",
      "mimetype": "text/x-python",
      "name": "python",
      "nbconvert_exporter": "python",
      "pygments_lexer": "ipython3",
      "version": "3.9.7"
    },
    "colab": {
      "provenance": []
    }
  },
  "nbformat": 4,
  "nbformat_minor": 5
}